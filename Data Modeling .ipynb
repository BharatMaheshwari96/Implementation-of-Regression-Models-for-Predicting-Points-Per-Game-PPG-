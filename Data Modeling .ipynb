{
 "cells": [
  {
   "cell_type": "code",
   "execution_count": 2,
   "metadata": {},
   "outputs": [],
   "source": [
    "import numpy as np\n",
    "import pandas as pd\n",
    "import matplotlib.pyplot as plt\n",
    "import seaborn as sns\n",
    "from sklearn.model_selection import train_test_split\n",
    "from sklearn.preprocessing import StandardScaler\n",
    "from sklearn import tree\n",
    "from sklearn.model_selection import GridSearchCV\n",
    "from sklearn import metrics\n",
    "from sklearn.ensemble import RandomForestClassifier\n",
    "from sklearn.linear_model import ElasticNet\n",
    "from sklearn.linear_model import LinearRegression\n",
    "from xgboost import XGBRegressor\n",
    "import json"
   ]
  },
  {
   "cell_type": "code",
   "execution_count": 3,
   "metadata": {},
   "outputs": [],
   "source": [
    "fpl2020_file = open('FPL_2019_20_season_stats.jscsrc', encoding=\"utf8\")\n",
    "fpl2020 = fpl2020_file.read()\n",
    "fpl2020 = json.loads(fpl2020)\n",
    "fpl2021_file = open('FPL_2020_21_player_list.jscsrc')\n",
    "fpl2021 = fpl2021_file.read()\n",
    "fpl2021 = json.loads(fpl2021)\n",
    "teams2020 = pd.DataFrame(fpl2020['teams'])\n",
    "players2020 = pd.DataFrame(fpl2020['elements'])\n",
    "fifa20 = pd.read_csv('FIFA20_official_data.csv')\n",
    "fifa21 = pd.read_csv('FIFA21_official_data.csv')\n",
    "fifa20_abbr = fifa20[['ID','Name','Nationality','Best Position','Overall','Age','Potential','Club']].copy()\n",
    "# I have selected Best Position over Position since the Position column had values like SUB which aren't ideal. \n",
    "fifa21_abbr = fifa21[['ID','Name','Nationality','Best Position','Overall','Age','Potential','Club']].copy()\n",
    "fifa20_abbr.columns = fifa21_abbr.columns\n",
    "#fifa21_abbr['position'] = fifa21_abbr['position'].apply(lambda x: x.split('|')[0])\n",
    "\n"
   ]
  },
  {
   "cell_type": "code",
   "execution_count": 9,
   "metadata": {},
   "outputs": [
    {
     "data": {
      "text/html": [
       "<div>\n",
       "<style scoped>\n",
       "    .dataframe tbody tr th:only-of-type {\n",
       "        vertical-align: middle;\n",
       "    }\n",
       "\n",
       "    .dataframe tbody tr th {\n",
       "        vertical-align: top;\n",
       "    }\n",
       "\n",
       "    .dataframe thead th {\n",
       "        text-align: right;\n",
       "    }\n",
       "</style>\n",
       "<table border=\"1\" class=\"dataframe\">\n",
       "  <thead>\n",
       "    <tr style=\"text-align: right;\">\n",
       "      <th></th>\n",
       "      <th>ID</th>\n",
       "      <th>Name</th>\n",
       "      <th>Age</th>\n",
       "      <th>Photo</th>\n",
       "      <th>Nationality</th>\n",
       "      <th>Flag</th>\n",
       "      <th>Overall</th>\n",
       "      <th>Potential</th>\n",
       "      <th>Club</th>\n",
       "      <th>Club Logo</th>\n",
       "      <th>...</th>\n",
       "      <th>SlidingTackle</th>\n",
       "      <th>GKDiving</th>\n",
       "      <th>GKHandling</th>\n",
       "      <th>GKKicking</th>\n",
       "      <th>GKPositioning</th>\n",
       "      <th>GKReflexes</th>\n",
       "      <th>Best Position</th>\n",
       "      <th>Best Overall Rating</th>\n",
       "      <th>Release Clause</th>\n",
       "      <th>DefensiveAwareness</th>\n",
       "    </tr>\n",
       "  </thead>\n",
       "  <tbody>\n",
       "    <tr>\n",
       "      <th>0</th>\n",
       "      <td>176580</td>\n",
       "      <td>L. Suárez</td>\n",
       "      <td>32</td>\n",
       "      <td>https://cdn.sofifa.com/players/176/580/20_60.png</td>\n",
       "      <td>Uruguay</td>\n",
       "      <td>https://cdn.sofifa.com/flags/uy.png</td>\n",
       "      <td>89</td>\n",
       "      <td>89</td>\n",
       "      <td>FC Barcelona</td>\n",
       "      <td>https://cdn.sofifa.com/teams/241/light_30.png</td>\n",
       "      <td>...</td>\n",
       "      <td>38.0</td>\n",
       "      <td>27.0</td>\n",
       "      <td>25.0</td>\n",
       "      <td>31.0</td>\n",
       "      <td>33.0</td>\n",
       "      <td>37.0</td>\n",
       "      <td>ST</td>\n",
       "      <td>89.0</td>\n",
       "      <td>€108.7M</td>\n",
       "      <td>57.0</td>\n",
       "    </tr>\n",
       "    <tr>\n",
       "      <th>1</th>\n",
       "      <td>194765</td>\n",
       "      <td>A. Griezmann</td>\n",
       "      <td>28</td>\n",
       "      <td>https://cdn.sofifa.com/players/194/765/20_60.png</td>\n",
       "      <td>France</td>\n",
       "      <td>https://cdn.sofifa.com/flags/fr.png</td>\n",
       "      <td>89</td>\n",
       "      <td>89</td>\n",
       "      <td>FC Barcelona</td>\n",
       "      <td>https://cdn.sofifa.com/teams/241/light_30.png</td>\n",
       "      <td>...</td>\n",
       "      <td>49.0</td>\n",
       "      <td>14.0</td>\n",
       "      <td>8.0</td>\n",
       "      <td>14.0</td>\n",
       "      <td>13.0</td>\n",
       "      <td>14.0</td>\n",
       "      <td>CF</td>\n",
       "      <td>89.0</td>\n",
       "      <td>€141.5M</td>\n",
       "      <td>59.0</td>\n",
       "    </tr>\n",
       "    <tr>\n",
       "      <th>2</th>\n",
       "      <td>212198</td>\n",
       "      <td>Bruno Fernandes</td>\n",
       "      <td>24</td>\n",
       "      <td>https://cdn.sofifa.com/players/212/198/20_60.png</td>\n",
       "      <td>Portugal</td>\n",
       "      <td>https://cdn.sofifa.com/flags/pt.png</td>\n",
       "      <td>86</td>\n",
       "      <td>89</td>\n",
       "      <td>Manchester United</td>\n",
       "      <td>https://cdn.sofifa.com/teams/11/light_30.png</td>\n",
       "      <td>...</td>\n",
       "      <td>55.0</td>\n",
       "      <td>12.0</td>\n",
       "      <td>14.0</td>\n",
       "      <td>15.0</td>\n",
       "      <td>8.0</td>\n",
       "      <td>14.0</td>\n",
       "      <td>CAM</td>\n",
       "      <td>87.0</td>\n",
       "      <td>€111.6M</td>\n",
       "      <td>72.0</td>\n",
       "    </tr>\n",
       "    <tr>\n",
       "      <th>3</th>\n",
       "      <td>192985</td>\n",
       "      <td>K. De Bruyne</td>\n",
       "      <td>28</td>\n",
       "      <td>https://cdn.sofifa.com/players/192/985/20_60.png</td>\n",
       "      <td>Belgium</td>\n",
       "      <td>https://cdn.sofifa.com/flags/be.png</td>\n",
       "      <td>91</td>\n",
       "      <td>91</td>\n",
       "      <td>Manchester City</td>\n",
       "      <td>https://cdn.sofifa.com/teams/10/light_30.png</td>\n",
       "      <td>...</td>\n",
       "      <td>53.0</td>\n",
       "      <td>15.0</td>\n",
       "      <td>13.0</td>\n",
       "      <td>5.0</td>\n",
       "      <td>10.0</td>\n",
       "      <td>13.0</td>\n",
       "      <td>CAM</td>\n",
       "      <td>91.0</td>\n",
       "      <td>€166.5M</td>\n",
       "      <td>68.0</td>\n",
       "    </tr>\n",
       "    <tr>\n",
       "      <th>4</th>\n",
       "      <td>224334</td>\n",
       "      <td>M. Acuña</td>\n",
       "      <td>27</td>\n",
       "      <td>https://cdn.sofifa.com/players/224/334/20_60.png</td>\n",
       "      <td>Argentina</td>\n",
       "      <td>https://cdn.sofifa.com/flags/ar.png</td>\n",
       "      <td>82</td>\n",
       "      <td>82</td>\n",
       "      <td>Sporting CP</td>\n",
       "      <td>https://cdn.sofifa.com/teams/237/light_30.png</td>\n",
       "      <td>...</td>\n",
       "      <td>79.0</td>\n",
       "      <td>8.0</td>\n",
       "      <td>14.0</td>\n",
       "      <td>13.0</td>\n",
       "      <td>13.0</td>\n",
       "      <td>14.0</td>\n",
       "      <td>LB</td>\n",
       "      <td>82.0</td>\n",
       "      <td>€40M</td>\n",
       "      <td>79.0</td>\n",
       "    </tr>\n",
       "  </tbody>\n",
       "</table>\n",
       "<p>5 rows × 65 columns</p>\n",
       "</div>"
      ],
      "text/plain": [
       "       ID              Name  Age  \\\n",
       "0  176580         L. Suárez   32   \n",
       "1  194765      A. Griezmann   28   \n",
       "2  212198   Bruno Fernandes   24   \n",
       "3  192985      K. De Bruyne   28   \n",
       "4  224334          M. Acuña   27   \n",
       "\n",
       "                                              Photo Nationality  \\\n",
       "0  https://cdn.sofifa.com/players/176/580/20_60.png     Uruguay   \n",
       "1  https://cdn.sofifa.com/players/194/765/20_60.png      France   \n",
       "2  https://cdn.sofifa.com/players/212/198/20_60.png    Portugal   \n",
       "3  https://cdn.sofifa.com/players/192/985/20_60.png     Belgium   \n",
       "4  https://cdn.sofifa.com/players/224/334/20_60.png   Argentina   \n",
       "\n",
       "                                  Flag  Overall  Potential               Club  \\\n",
       "0  https://cdn.sofifa.com/flags/uy.png       89         89       FC Barcelona   \n",
       "1  https://cdn.sofifa.com/flags/fr.png       89         89       FC Barcelona   \n",
       "2  https://cdn.sofifa.com/flags/pt.png       86         89  Manchester United   \n",
       "3  https://cdn.sofifa.com/flags/be.png       91         91    Manchester City   \n",
       "4  https://cdn.sofifa.com/flags/ar.png       82         82        Sporting CP   \n",
       "\n",
       "                                       Club Logo  ... SlidingTackle GKDiving  \\\n",
       "0  https://cdn.sofifa.com/teams/241/light_30.png  ...          38.0     27.0   \n",
       "1  https://cdn.sofifa.com/teams/241/light_30.png  ...          49.0     14.0   \n",
       "2   https://cdn.sofifa.com/teams/11/light_30.png  ...          55.0     12.0   \n",
       "3   https://cdn.sofifa.com/teams/10/light_30.png  ...          53.0     15.0   \n",
       "4  https://cdn.sofifa.com/teams/237/light_30.png  ...          79.0      8.0   \n",
       "\n",
       "   GKHandling GKKicking  GKPositioning  GKReflexes  Best Position  \\\n",
       "0        25.0      31.0           33.0        37.0             ST   \n",
       "1         8.0      14.0           13.0        14.0             CF   \n",
       "2        14.0      15.0            8.0        14.0            CAM   \n",
       "3        13.0       5.0           10.0        13.0            CAM   \n",
       "4        14.0      13.0           13.0        14.0             LB   \n",
       "\n",
       "  Best Overall Rating Release Clause DefensiveAwareness  \n",
       "0                89.0        €108.7M               57.0  \n",
       "1                89.0        €141.5M               59.0  \n",
       "2                87.0        €111.6M               72.0  \n",
       "3                91.0        €166.5M               68.0  \n",
       "4                82.0           €40M               79.0  \n",
       "\n",
       "[5 rows x 65 columns]"
      ]
     },
     "execution_count": 9,
     "metadata": {},
     "output_type": "execute_result"
    }
   ],
   "source": [
    "fifa20.head()"
   ]
  },
  {
   "cell_type": "code",
   "execution_count": 8,
   "metadata": {},
   "outputs": [
    {
     "data": {
      "text/html": [
       "<div>\n",
       "<style scoped>\n",
       "    .dataframe tbody tr th:only-of-type {\n",
       "        vertical-align: middle;\n",
       "    }\n",
       "\n",
       "    .dataframe tbody tr th {\n",
       "        vertical-align: top;\n",
       "    }\n",
       "\n",
       "    .dataframe thead th {\n",
       "        text-align: right;\n",
       "    }\n",
       "</style>\n",
       "<table border=\"1\" class=\"dataframe\">\n",
       "  <thead>\n",
       "    <tr style=\"text-align: right;\">\n",
       "      <th></th>\n",
       "      <th>code</th>\n",
       "      <th>draw</th>\n",
       "      <th>form</th>\n",
       "      <th>id</th>\n",
       "      <th>loss</th>\n",
       "      <th>name</th>\n",
       "      <th>played</th>\n",
       "      <th>points</th>\n",
       "      <th>position</th>\n",
       "      <th>short_name</th>\n",
       "      <th>...</th>\n",
       "      <th>team_division</th>\n",
       "      <th>unavailable</th>\n",
       "      <th>win</th>\n",
       "      <th>strength_overall_home</th>\n",
       "      <th>strength_overall_away</th>\n",
       "      <th>strength_attack_home</th>\n",
       "      <th>strength_attack_away</th>\n",
       "      <th>strength_defence_home</th>\n",
       "      <th>strength_defence_away</th>\n",
       "      <th>pulse_id</th>\n",
       "    </tr>\n",
       "  </thead>\n",
       "  <tbody>\n",
       "    <tr>\n",
       "      <th>0</th>\n",
       "      <td>3</td>\n",
       "      <td>14</td>\n",
       "      <td>None</td>\n",
       "      <td>1</td>\n",
       "      <td>10</td>\n",
       "      <td>Arsenal</td>\n",
       "      <td>38</td>\n",
       "      <td>56</td>\n",
       "      <td>8</td>\n",
       "      <td>ARS</td>\n",
       "      <td>...</td>\n",
       "      <td>None</td>\n",
       "      <td>False</td>\n",
       "      <td>14</td>\n",
       "      <td>1180</td>\n",
       "      <td>1240</td>\n",
       "      <td>1170</td>\n",
       "      <td>1170</td>\n",
       "      <td>1150</td>\n",
       "      <td>1200</td>\n",
       "      <td>1</td>\n",
       "    </tr>\n",
       "    <tr>\n",
       "      <th>1</th>\n",
       "      <td>7</td>\n",
       "      <td>8</td>\n",
       "      <td>None</td>\n",
       "      <td>2</td>\n",
       "      <td>21</td>\n",
       "      <td>Aston Villa</td>\n",
       "      <td>38</td>\n",
       "      <td>35</td>\n",
       "      <td>17</td>\n",
       "      <td>AVL</td>\n",
       "      <td>...</td>\n",
       "      <td>None</td>\n",
       "      <td>False</td>\n",
       "      <td>9</td>\n",
       "      <td>1020</td>\n",
       "      <td>1050</td>\n",
       "      <td>970</td>\n",
       "      <td>980</td>\n",
       "      <td>1000</td>\n",
       "      <td>1040</td>\n",
       "      <td>2</td>\n",
       "    </tr>\n",
       "    <tr>\n",
       "      <th>2</th>\n",
       "      <td>91</td>\n",
       "      <td>7</td>\n",
       "      <td>None</td>\n",
       "      <td>3</td>\n",
       "      <td>22</td>\n",
       "      <td>Bournemouth</td>\n",
       "      <td>38</td>\n",
       "      <td>34</td>\n",
       "      <td>18</td>\n",
       "      <td>BOU</td>\n",
       "      <td>...</td>\n",
       "      <td>None</td>\n",
       "      <td>False</td>\n",
       "      <td>9</td>\n",
       "      <td>1020</td>\n",
       "      <td>1020</td>\n",
       "      <td>990</td>\n",
       "      <td>1030</td>\n",
       "      <td>1000</td>\n",
       "      <td>1050</td>\n",
       "      <td>127</td>\n",
       "    </tr>\n",
       "    <tr>\n",
       "      <th>3</th>\n",
       "      <td>36</td>\n",
       "      <td>14</td>\n",
       "      <td>None</td>\n",
       "      <td>4</td>\n",
       "      <td>15</td>\n",
       "      <td>Brighton</td>\n",
       "      <td>38</td>\n",
       "      <td>41</td>\n",
       "      <td>15</td>\n",
       "      <td>BHA</td>\n",
       "      <td>...</td>\n",
       "      <td>None</td>\n",
       "      <td>False</td>\n",
       "      <td>9</td>\n",
       "      <td>1050</td>\n",
       "      <td>1010</td>\n",
       "      <td>1100</td>\n",
       "      <td>1100</td>\n",
       "      <td>1040</td>\n",
       "      <td>1030</td>\n",
       "      <td>131</td>\n",
       "    </tr>\n",
       "    <tr>\n",
       "      <th>4</th>\n",
       "      <td>90</td>\n",
       "      <td>9</td>\n",
       "      <td>None</td>\n",
       "      <td>5</td>\n",
       "      <td>14</td>\n",
       "      <td>Burnley</td>\n",
       "      <td>38</td>\n",
       "      <td>54</td>\n",
       "      <td>10</td>\n",
       "      <td>BUR</td>\n",
       "      <td>...</td>\n",
       "      <td>None</td>\n",
       "      <td>False</td>\n",
       "      <td>15</td>\n",
       "      <td>1110</td>\n",
       "      <td>1180</td>\n",
       "      <td>1130</td>\n",
       "      <td>1070</td>\n",
       "      <td>970</td>\n",
       "      <td>1110</td>\n",
       "      <td>43</td>\n",
       "    </tr>\n",
       "  </tbody>\n",
       "</table>\n",
       "<p>5 rows × 21 columns</p>\n",
       "</div>"
      ],
      "text/plain": [
       "   code  draw  form  id  loss         name  played  points  position  \\\n",
       "0     3    14  None   1    10      Arsenal      38      56         8   \n",
       "1     7     8  None   2    21  Aston Villa      38      35        17   \n",
       "2    91     7  None   3    22  Bournemouth      38      34        18   \n",
       "3    36    14  None   4    15     Brighton      38      41        15   \n",
       "4    90     9  None   5    14      Burnley      38      54        10   \n",
       "\n",
       "  short_name  ...  team_division unavailable  win  strength_overall_home  \\\n",
       "0        ARS  ...           None       False   14                   1180   \n",
       "1        AVL  ...           None       False    9                   1020   \n",
       "2        BOU  ...           None       False    9                   1020   \n",
       "3        BHA  ...           None       False    9                   1050   \n",
       "4        BUR  ...           None       False   15                   1110   \n",
       "\n",
       "   strength_overall_away  strength_attack_home  strength_attack_away  \\\n",
       "0                   1240                  1170                  1170   \n",
       "1                   1050                   970                   980   \n",
       "2                   1020                   990                  1030   \n",
       "3                   1010                  1100                  1100   \n",
       "4                   1180                  1130                  1070   \n",
       "\n",
       "   strength_defence_home  strength_defence_away  pulse_id  \n",
       "0                   1150                   1200         1  \n",
       "1                   1000                   1040         2  \n",
       "2                   1000                   1050       127  \n",
       "3                   1040                   1030       131  \n",
       "4                    970                   1110        43  \n",
       "\n",
       "[5 rows x 21 columns]"
      ]
     },
     "execution_count": 8,
     "metadata": {},
     "output_type": "execute_result"
    }
   ],
   "source": [
    "teams2020.head()"
   ]
  },
  {
   "cell_type": "code",
   "execution_count": 7,
   "metadata": {},
   "outputs": [
    {
     "data": {
      "text/html": [
       "<div>\n",
       "<style scoped>\n",
       "    .dataframe tbody tr th:only-of-type {\n",
       "        vertical-align: middle;\n",
       "    }\n",
       "\n",
       "    .dataframe tbody tr th {\n",
       "        vertical-align: top;\n",
       "    }\n",
       "\n",
       "    .dataframe thead th {\n",
       "        text-align: right;\n",
       "    }\n",
       "</style>\n",
       "<table border=\"1\" class=\"dataframe\">\n",
       "  <thead>\n",
       "    <tr style=\"text-align: right;\">\n",
       "      <th></th>\n",
       "      <th>chance_of_playing_next_round</th>\n",
       "      <th>chance_of_playing_this_round</th>\n",
       "      <th>code</th>\n",
       "      <th>cost_change_event</th>\n",
       "      <th>cost_change_event_fall</th>\n",
       "      <th>cost_change_start</th>\n",
       "      <th>cost_change_start_fall</th>\n",
       "      <th>dreamteam_count</th>\n",
       "      <th>element_type</th>\n",
       "      <th>ep_next</th>\n",
       "      <th>...</th>\n",
       "      <th>threat</th>\n",
       "      <th>ict_index</th>\n",
       "      <th>influence_rank</th>\n",
       "      <th>influence_rank_type</th>\n",
       "      <th>creativity_rank</th>\n",
       "      <th>creativity_rank_type</th>\n",
       "      <th>threat_rank</th>\n",
       "      <th>threat_rank_type</th>\n",
       "      <th>ict_index_rank</th>\n",
       "      <th>ict_index_rank_type</th>\n",
       "    </tr>\n",
       "  </thead>\n",
       "  <tbody>\n",
       "    <tr>\n",
       "      <th>0</th>\n",
       "      <td>0.0</td>\n",
       "      <td>0.0</td>\n",
       "      <td>69140</td>\n",
       "      <td>0</td>\n",
       "      <td>0</td>\n",
       "      <td>-4</td>\n",
       "      <td>4</td>\n",
       "      <td>0</td>\n",
       "      <td>2</td>\n",
       "      <td>0.0</td>\n",
       "      <td>...</td>\n",
       "      <td>155.0</td>\n",
       "      <td>47.9</td>\n",
       "      <td>257</td>\n",
       "      <td>100</td>\n",
       "      <td>352</td>\n",
       "      <td>122</td>\n",
       "      <td>234</td>\n",
       "      <td>58</td>\n",
       "      <td>313</td>\n",
       "      <td>106</td>\n",
       "    </tr>\n",
       "    <tr>\n",
       "      <th>1</th>\n",
       "      <td>100.0</td>\n",
       "      <td>100.0</td>\n",
       "      <td>98745</td>\n",
       "      <td>0</td>\n",
       "      <td>0</td>\n",
       "      <td>-3</td>\n",
       "      <td>3</td>\n",
       "      <td>0</td>\n",
       "      <td>2</td>\n",
       "      <td>2.3</td>\n",
       "      <td>...</td>\n",
       "      <td>103.0</td>\n",
       "      <td>37.0</td>\n",
       "      <td>322</td>\n",
       "      <td>124</td>\n",
       "      <td>301</td>\n",
       "      <td>95</td>\n",
       "      <td>275</td>\n",
       "      <td>81</td>\n",
       "      <td>339</td>\n",
       "      <td>122</td>\n",
       "    </tr>\n",
       "    <tr>\n",
       "      <th>2</th>\n",
       "      <td>100.0</td>\n",
       "      <td>100.0</td>\n",
       "      <td>111457</td>\n",
       "      <td>0</td>\n",
       "      <td>0</td>\n",
       "      <td>-3</td>\n",
       "      <td>3</td>\n",
       "      <td>0</td>\n",
       "      <td>2</td>\n",
       "      <td>3.3</td>\n",
       "      <td>...</td>\n",
       "      <td>81.0</td>\n",
       "      <td>53.0</td>\n",
       "      <td>264</td>\n",
       "      <td>104</td>\n",
       "      <td>215</td>\n",
       "      <td>52</td>\n",
       "      <td>305</td>\n",
       "      <td>98</td>\n",
       "      <td>293</td>\n",
       "      <td>96</td>\n",
       "    </tr>\n",
       "    <tr>\n",
       "      <th>3</th>\n",
       "      <td>100.0</td>\n",
       "      <td>100.0</td>\n",
       "      <td>154043</td>\n",
       "      <td>0</td>\n",
       "      <td>0</td>\n",
       "      <td>-5</td>\n",
       "      <td>5</td>\n",
       "      <td>1</td>\n",
       "      <td>2</td>\n",
       "      <td>0.8</td>\n",
       "      <td>...</td>\n",
       "      <td>58.0</td>\n",
       "      <td>53.6</td>\n",
       "      <td>241</td>\n",
       "      <td>94</td>\n",
       "      <td>216</td>\n",
       "      <td>53</td>\n",
       "      <td>337</td>\n",
       "      <td>119</td>\n",
       "      <td>287</td>\n",
       "      <td>94</td>\n",
       "    </tr>\n",
       "    <tr>\n",
       "      <th>4</th>\n",
       "      <td>100.0</td>\n",
       "      <td>100.0</td>\n",
       "      <td>39476</td>\n",
       "      <td>0</td>\n",
       "      <td>0</td>\n",
       "      <td>-2</td>\n",
       "      <td>2</td>\n",
       "      <td>1</td>\n",
       "      <td>2</td>\n",
       "      <td>0.5</td>\n",
       "      <td>...</td>\n",
       "      <td>110.0</td>\n",
       "      <td>58.5</td>\n",
       "      <td>166</td>\n",
       "      <td>62</td>\n",
       "      <td>365</td>\n",
       "      <td>130</td>\n",
       "      <td>266</td>\n",
       "      <td>76</td>\n",
       "      <td>275</td>\n",
       "      <td>88</td>\n",
       "    </tr>\n",
       "  </tbody>\n",
       "</table>\n",
       "<p>5 rows × 61 columns</p>\n",
       "</div>"
      ],
      "text/plain": [
       "   chance_of_playing_next_round  chance_of_playing_this_round    code  \\\n",
       "0                           0.0                           0.0   69140   \n",
       "1                         100.0                         100.0   98745   \n",
       "2                         100.0                         100.0  111457   \n",
       "3                         100.0                         100.0  154043   \n",
       "4                         100.0                         100.0   39476   \n",
       "\n",
       "   cost_change_event  cost_change_event_fall  cost_change_start  \\\n",
       "0                  0                       0                 -4   \n",
       "1                  0                       0                 -3   \n",
       "2                  0                       0                 -3   \n",
       "3                  0                       0                 -5   \n",
       "4                  0                       0                 -2   \n",
       "\n",
       "   cost_change_start_fall  dreamteam_count  element_type ep_next  ... threat  \\\n",
       "0                       4                0             2     0.0  ...  155.0   \n",
       "1                       3                0             2     2.3  ...  103.0   \n",
       "2                       3                0             2     3.3  ...   81.0   \n",
       "3                       5                1             2     0.8  ...   58.0   \n",
       "4                       2                1             2     0.5  ...  110.0   \n",
       "\n",
       "   ict_index influence_rank influence_rank_type  creativity_rank  \\\n",
       "0       47.9            257                 100              352   \n",
       "1       37.0            322                 124              301   \n",
       "2       53.0            264                 104              215   \n",
       "3       53.6            241                  94              216   \n",
       "4       58.5            166                  62              365   \n",
       "\n",
       "   creativity_rank_type threat_rank threat_rank_type  ict_index_rank  \\\n",
       "0                   122         234               58             313   \n",
       "1                    95         275               81             339   \n",
       "2                    52         305               98             293   \n",
       "3                    53         337              119             287   \n",
       "4                   130         266               76             275   \n",
       "\n",
       "  ict_index_rank_type  \n",
       "0                 106  \n",
       "1                 122  \n",
       "2                  96  \n",
       "3                  94  \n",
       "4                  88  \n",
       "\n",
       "[5 rows x 61 columns]"
      ]
     },
     "execution_count": 7,
     "metadata": {},
     "output_type": "execute_result"
    }
   ],
   "source": [
    "players2020.head()"
   ]
  },
  {
   "cell_type": "markdown",
   "metadata": {},
   "source": [
    "# Merge FPL players data with FPL teams data "
   ]
  },
  {
   "cell_type": "code",
   "execution_count": 11,
   "metadata": {},
   "outputs": [],
   "source": [
    "players_wteams =  players2020.merge(teams2020, how = 'left', left_on = 'team_code',right_on = 'code',suffixes = ['','_team'])"
   ]
  },
  {
   "cell_type": "code",
   "execution_count": 12,
   "metadata": {},
   "outputs": [
    {
     "data": {
      "text/html": [
       "<div>\n",
       "<style scoped>\n",
       "    .dataframe tbody tr th:only-of-type {\n",
       "        vertical-align: middle;\n",
       "    }\n",
       "\n",
       "    .dataframe tbody tr th {\n",
       "        vertical-align: top;\n",
       "    }\n",
       "\n",
       "    .dataframe thead th {\n",
       "        text-align: right;\n",
       "    }\n",
       "</style>\n",
       "<table border=\"1\" class=\"dataframe\">\n",
       "  <thead>\n",
       "    <tr style=\"text-align: right;\">\n",
       "      <th></th>\n",
       "      <th>chance_of_playing_next_round</th>\n",
       "      <th>chance_of_playing_this_round</th>\n",
       "      <th>code</th>\n",
       "      <th>cost_change_event</th>\n",
       "      <th>cost_change_event_fall</th>\n",
       "      <th>cost_change_start</th>\n",
       "      <th>cost_change_start_fall</th>\n",
       "      <th>dreamteam_count</th>\n",
       "      <th>element_type</th>\n",
       "      <th>ep_next</th>\n",
       "      <th>...</th>\n",
       "      <th>team_division</th>\n",
       "      <th>unavailable</th>\n",
       "      <th>win</th>\n",
       "      <th>strength_overall_home</th>\n",
       "      <th>strength_overall_away</th>\n",
       "      <th>strength_attack_home</th>\n",
       "      <th>strength_attack_away</th>\n",
       "      <th>strength_defence_home</th>\n",
       "      <th>strength_defence_away</th>\n",
       "      <th>pulse_id</th>\n",
       "    </tr>\n",
       "  </thead>\n",
       "  <tbody>\n",
       "    <tr>\n",
       "      <th>0</th>\n",
       "      <td>0.0</td>\n",
       "      <td>0.0</td>\n",
       "      <td>69140</td>\n",
       "      <td>0</td>\n",
       "      <td>0</td>\n",
       "      <td>-4</td>\n",
       "      <td>4</td>\n",
       "      <td>0</td>\n",
       "      <td>2</td>\n",
       "      <td>0.0</td>\n",
       "      <td>...</td>\n",
       "      <td>None</td>\n",
       "      <td>False</td>\n",
       "      <td>14</td>\n",
       "      <td>1180</td>\n",
       "      <td>1240</td>\n",
       "      <td>1170</td>\n",
       "      <td>1170</td>\n",
       "      <td>1150</td>\n",
       "      <td>1200</td>\n",
       "      <td>1</td>\n",
       "    </tr>\n",
       "    <tr>\n",
       "      <th>1</th>\n",
       "      <td>100.0</td>\n",
       "      <td>100.0</td>\n",
       "      <td>98745</td>\n",
       "      <td>0</td>\n",
       "      <td>0</td>\n",
       "      <td>-3</td>\n",
       "      <td>3</td>\n",
       "      <td>0</td>\n",
       "      <td>2</td>\n",
       "      <td>2.3</td>\n",
       "      <td>...</td>\n",
       "      <td>None</td>\n",
       "      <td>False</td>\n",
       "      <td>14</td>\n",
       "      <td>1180</td>\n",
       "      <td>1240</td>\n",
       "      <td>1170</td>\n",
       "      <td>1170</td>\n",
       "      <td>1150</td>\n",
       "      <td>1200</td>\n",
       "      <td>1</td>\n",
       "    </tr>\n",
       "    <tr>\n",
       "      <th>2</th>\n",
       "      <td>100.0</td>\n",
       "      <td>100.0</td>\n",
       "      <td>111457</td>\n",
       "      <td>0</td>\n",
       "      <td>0</td>\n",
       "      <td>-3</td>\n",
       "      <td>3</td>\n",
       "      <td>0</td>\n",
       "      <td>2</td>\n",
       "      <td>3.3</td>\n",
       "      <td>...</td>\n",
       "      <td>None</td>\n",
       "      <td>False</td>\n",
       "      <td>14</td>\n",
       "      <td>1180</td>\n",
       "      <td>1240</td>\n",
       "      <td>1170</td>\n",
       "      <td>1170</td>\n",
       "      <td>1150</td>\n",
       "      <td>1200</td>\n",
       "      <td>1</td>\n",
       "    </tr>\n",
       "    <tr>\n",
       "      <th>3</th>\n",
       "      <td>100.0</td>\n",
       "      <td>100.0</td>\n",
       "      <td>154043</td>\n",
       "      <td>0</td>\n",
       "      <td>0</td>\n",
       "      <td>-5</td>\n",
       "      <td>5</td>\n",
       "      <td>1</td>\n",
       "      <td>2</td>\n",
       "      <td>0.8</td>\n",
       "      <td>...</td>\n",
       "      <td>None</td>\n",
       "      <td>False</td>\n",
       "      <td>14</td>\n",
       "      <td>1180</td>\n",
       "      <td>1240</td>\n",
       "      <td>1170</td>\n",
       "      <td>1170</td>\n",
       "      <td>1150</td>\n",
       "      <td>1200</td>\n",
       "      <td>1</td>\n",
       "    </tr>\n",
       "    <tr>\n",
       "      <th>4</th>\n",
       "      <td>100.0</td>\n",
       "      <td>100.0</td>\n",
       "      <td>39476</td>\n",
       "      <td>0</td>\n",
       "      <td>0</td>\n",
       "      <td>-2</td>\n",
       "      <td>2</td>\n",
       "      <td>1</td>\n",
       "      <td>2</td>\n",
       "      <td>0.5</td>\n",
       "      <td>...</td>\n",
       "      <td>None</td>\n",
       "      <td>False</td>\n",
       "      <td>14</td>\n",
       "      <td>1180</td>\n",
       "      <td>1240</td>\n",
       "      <td>1170</td>\n",
       "      <td>1170</td>\n",
       "      <td>1150</td>\n",
       "      <td>1200</td>\n",
       "      <td>1</td>\n",
       "    </tr>\n",
       "    <tr>\n",
       "      <th>...</th>\n",
       "      <td>...</td>\n",
       "      <td>...</td>\n",
       "      <td>...</td>\n",
       "      <td>...</td>\n",
       "      <td>...</td>\n",
       "      <td>...</td>\n",
       "      <td>...</td>\n",
       "      <td>...</td>\n",
       "      <td>...</td>\n",
       "      <td>...</td>\n",
       "      <td>...</td>\n",
       "      <td>...</td>\n",
       "      <td>...</td>\n",
       "      <td>...</td>\n",
       "      <td>...</td>\n",
       "      <td>...</td>\n",
       "      <td>...</td>\n",
       "      <td>...</td>\n",
       "      <td>...</td>\n",
       "      <td>...</td>\n",
       "      <td>...</td>\n",
       "    </tr>\n",
       "    <tr>\n",
       "      <th>661</th>\n",
       "      <td>NaN</td>\n",
       "      <td>NaN</td>\n",
       "      <td>179456</td>\n",
       "      <td>0</td>\n",
       "      <td>0</td>\n",
       "      <td>0</td>\n",
       "      <td>0</td>\n",
       "      <td>0</td>\n",
       "      <td>2</td>\n",
       "      <td>0.0</td>\n",
       "      <td>...</td>\n",
       "      <td>None</td>\n",
       "      <td>False</td>\n",
       "      <td>15</td>\n",
       "      <td>1230</td>\n",
       "      <td>1190</td>\n",
       "      <td>1180</td>\n",
       "      <td>1230</td>\n",
       "      <td>1200</td>\n",
       "      <td>1200</td>\n",
       "      <td>38</td>\n",
       "    </tr>\n",
       "    <tr>\n",
       "      <th>662</th>\n",
       "      <td>0.0</td>\n",
       "      <td>0.0</td>\n",
       "      <td>232351</td>\n",
       "      <td>0</td>\n",
       "      <td>0</td>\n",
       "      <td>-1</td>\n",
       "      <td>1</td>\n",
       "      <td>0</td>\n",
       "      <td>2</td>\n",
       "      <td>0.0</td>\n",
       "      <td>...</td>\n",
       "      <td>None</td>\n",
       "      <td>False</td>\n",
       "      <td>15</td>\n",
       "      <td>1230</td>\n",
       "      <td>1190</td>\n",
       "      <td>1180</td>\n",
       "      <td>1230</td>\n",
       "      <td>1200</td>\n",
       "      <td>1200</td>\n",
       "      <td>38</td>\n",
       "    </tr>\n",
       "    <tr>\n",
       "      <th>663</th>\n",
       "      <td>NaN</td>\n",
       "      <td>NaN</td>\n",
       "      <td>428610</td>\n",
       "      <td>0</td>\n",
       "      <td>0</td>\n",
       "      <td>0</td>\n",
       "      <td>0</td>\n",
       "      <td>0</td>\n",
       "      <td>3</td>\n",
       "      <td>0.0</td>\n",
       "      <td>...</td>\n",
       "      <td>None</td>\n",
       "      <td>False</td>\n",
       "      <td>15</td>\n",
       "      <td>1230</td>\n",
       "      <td>1190</td>\n",
       "      <td>1180</td>\n",
       "      <td>1230</td>\n",
       "      <td>1200</td>\n",
       "      <td>1200</td>\n",
       "      <td>38</td>\n",
       "    </tr>\n",
       "    <tr>\n",
       "      <th>664</th>\n",
       "      <td>NaN</td>\n",
       "      <td>NaN</td>\n",
       "      <td>200600</td>\n",
       "      <td>0</td>\n",
       "      <td>0</td>\n",
       "      <td>-6</td>\n",
       "      <td>6</td>\n",
       "      <td>1</td>\n",
       "      <td>3</td>\n",
       "      <td>3.2</td>\n",
       "      <td>...</td>\n",
       "      <td>None</td>\n",
       "      <td>False</td>\n",
       "      <td>15</td>\n",
       "      <td>1230</td>\n",
       "      <td>1190</td>\n",
       "      <td>1180</td>\n",
       "      <td>1230</td>\n",
       "      <td>1200</td>\n",
       "      <td>1200</td>\n",
       "      <td>38</td>\n",
       "    </tr>\n",
       "    <tr>\n",
       "      <th>665</th>\n",
       "      <td>NaN</td>\n",
       "      <td>NaN</td>\n",
       "      <td>474003</td>\n",
       "      <td>0</td>\n",
       "      <td>0</td>\n",
       "      <td>0</td>\n",
       "      <td>0</td>\n",
       "      <td>0</td>\n",
       "      <td>4</td>\n",
       "      <td>0.0</td>\n",
       "      <td>...</td>\n",
       "      <td>None</td>\n",
       "      <td>False</td>\n",
       "      <td>15</td>\n",
       "      <td>1230</td>\n",
       "      <td>1190</td>\n",
       "      <td>1180</td>\n",
       "      <td>1230</td>\n",
       "      <td>1200</td>\n",
       "      <td>1200</td>\n",
       "      <td>38</td>\n",
       "    </tr>\n",
       "  </tbody>\n",
       "</table>\n",
       "<p>666 rows × 82 columns</p>\n",
       "</div>"
      ],
      "text/plain": [
       "     chance_of_playing_next_round  chance_of_playing_this_round    code  \\\n",
       "0                             0.0                           0.0   69140   \n",
       "1                           100.0                         100.0   98745   \n",
       "2                           100.0                         100.0  111457   \n",
       "3                           100.0                         100.0  154043   \n",
       "4                           100.0                         100.0   39476   \n",
       "..                            ...                           ...     ...   \n",
       "661                           NaN                           NaN  179456   \n",
       "662                           0.0                           0.0  232351   \n",
       "663                           NaN                           NaN  428610   \n",
       "664                           NaN                           NaN  200600   \n",
       "665                           NaN                           NaN  474003   \n",
       "\n",
       "     cost_change_event  cost_change_event_fall  cost_change_start  \\\n",
       "0                    0                       0                 -4   \n",
       "1                    0                       0                 -3   \n",
       "2                    0                       0                 -3   \n",
       "3                    0                       0                 -5   \n",
       "4                    0                       0                 -2   \n",
       "..                 ...                     ...                ...   \n",
       "661                  0                       0                  0   \n",
       "662                  0                       0                 -1   \n",
       "663                  0                       0                  0   \n",
       "664                  0                       0                 -6   \n",
       "665                  0                       0                  0   \n",
       "\n",
       "     cost_change_start_fall  dreamteam_count  element_type ep_next  ...  \\\n",
       "0                         4                0             2     0.0  ...   \n",
       "1                         3                0             2     2.3  ...   \n",
       "2                         3                0             2     3.3  ...   \n",
       "3                         5                1             2     0.8  ...   \n",
       "4                         2                1             2     0.5  ...   \n",
       "..                      ...              ...           ...     ...  ...   \n",
       "661                       0                0             2     0.0  ...   \n",
       "662                       1                0             2     0.0  ...   \n",
       "663                       0                0             3     0.0  ...   \n",
       "664                       6                1             3     3.2  ...   \n",
       "665                       0                0             4     0.0  ...   \n",
       "\n",
       "    team_division  unavailable win strength_overall_home  \\\n",
       "0            None        False  14                  1180   \n",
       "1            None        False  14                  1180   \n",
       "2            None        False  14                  1180   \n",
       "3            None        False  14                  1180   \n",
       "4            None        False  14                  1180   \n",
       "..            ...          ...  ..                   ...   \n",
       "661          None        False  15                  1230   \n",
       "662          None        False  15                  1230   \n",
       "663          None        False  15                  1230   \n",
       "664          None        False  15                  1230   \n",
       "665          None        False  15                  1230   \n",
       "\n",
       "     strength_overall_away  strength_attack_home strength_attack_away  \\\n",
       "0                     1240                  1170                 1170   \n",
       "1                     1240                  1170                 1170   \n",
       "2                     1240                  1170                 1170   \n",
       "3                     1240                  1170                 1170   \n",
       "4                     1240                  1170                 1170   \n",
       "..                     ...                   ...                  ...   \n",
       "661                   1190                  1180                 1230   \n",
       "662                   1190                  1180                 1230   \n",
       "663                   1190                  1180                 1230   \n",
       "664                   1190                  1180                 1230   \n",
       "665                   1190                  1180                 1230   \n",
       "\n",
       "    strength_defence_home  strength_defence_away pulse_id  \n",
       "0                    1150                   1200        1  \n",
       "1                    1150                   1200        1  \n",
       "2                    1150                   1200        1  \n",
       "3                    1150                   1200        1  \n",
       "4                    1150                   1200        1  \n",
       "..                    ...                    ...      ...  \n",
       "661                  1200                   1200       38  \n",
       "662                  1200                   1200       38  \n",
       "663                  1200                   1200       38  \n",
       "664                  1200                   1200       38  \n",
       "665                  1200                   1200       38  \n",
       "\n",
       "[666 rows x 82 columns]"
      ]
     },
     "execution_count": 12,
     "metadata": {},
     "output_type": "execute_result"
    }
   ],
   "source": [
    "players_wteams"
   ]
  },
  {
   "cell_type": "markdown",
   "metadata": {},
   "source": [
    "# Drop players with 0 points \n"
   ]
  },
  {
   "cell_type": "code",
   "execution_count": 4,
   "metadata": {},
   "outputs": [],
   "source": [
    "players_wteams = players_wteams[players_wteams['total_points']!=0]"
   ]
  },
  {
   "cell_type": "markdown",
   "metadata": {},
   "source": [
    "# Drop players with ppg less than 1. Since we are not interested in substitute appearances which do not produce any points"
   ]
  },
  {
   "cell_type": "code",
   "execution_count": 5,
   "metadata": {},
   "outputs": [],
   "source": [
    "players_wteams = players_wteams[players_wteams['points_per_game'].astype('float')>1]"
   ]
  },
  {
   "cell_type": "code",
   "execution_count": 6,
   "metadata": {},
   "outputs": [],
   "source": [
    "team_overall = fifa21_abbr.groupby(by='Club',axis = 0,)['ID'].count()"
   ]
  },
  {
   "cell_type": "code",
   "execution_count": 7,
   "metadata": {},
   "outputs": [
    {
     "data": {
      "text/plain": [
       "count    843.00000\n",
       "mean      19.90866\n",
       "std       11.59019\n",
       "min        1.00000\n",
       "25%       11.00000\n",
       "50%       21.00000\n",
       "75%       29.00000\n",
       "max       45.00000\n",
       "Name: ID, dtype: float64"
      ]
     },
     "execution_count": 7,
     "metadata": {},
     "output_type": "execute_result"
    }
   ],
   "source": [
    "team_overall.describe()"
   ]
  },
  {
   "cell_type": "markdown",
   "metadata": {},
   "source": [
    "Typically most football clubs have 23 man squads. So any club with lesser players either is a team that is not captured adequately by FIFA. If you have ever played FIFA you know that it has the most obsucre players. So we are going to drop any club that has less than 23 players. We can see that its 25% of the dataset."
   ]
  },
  {
   "cell_type": "code",
   "execution_count": 8,
   "metadata": {},
   "outputs": [],
   "source": [
    "fifa20_teams = team_overall[team_overall>22]\n",
    "\n",
    "fpl20_teams = players_wteams.name.unique()\n",
    "\n",
    "fpl20_teamnames = ['Arsenal', 'Aston Villa', 'Bournemouth', 'Brighton & Hove Albion', 'Burnley',\n",
    "       'Chelsea', 'Crystal Palace', 'Everton', 'Leicester City', 'Liverpool',\n",
    "       'Manchester City', 'Manchester United', 'Newcastle United', 'Norwich City', 'Sheffield United',\n",
    "       'Southampton', 'Tottenham Hotspurs', 'Watford', 'West Ham United', 'Wolverhampton Wanderers']\n",
    "fullnames_df = pd.DataFrame(data = [fpl20_teams,fpl20_teamnames])\n",
    "fullnames_df = fullnames_df.transpose()\n",
    "fullnames_df.columns = ['name','full_club_name']\n",
    "\n",
    "players_wteamnames = players_wteams.merge(fullnames_df,on = ['name'])"
   ]
  },
  {
   "cell_type": "markdown",
   "metadata": {},
   "source": [
    "# Create matching fpl team column for each FIFA club.\n",
    "We are going to use the Fuzzywuzzy library to generate a match score for the club names in FPL and FIFA. For each club in FIFA, we are going to look for the best matched club name in FPL. Fuzzywuzzy also gives a match score. We are going to select the matching club with the highest score as the correct match."
   ]
  },
  {
   "cell_type": "code",
   "execution_count": 9,
   "metadata": {},
   "outputs": [],
   "source": [
    "from fuzzywuzzy import fuzz\n",
    "from fuzzywuzzy import process\n",
    " \n",
    "fifa21_abbr['matching_fpl_team'] = fifa21_abbr['Club'].apply(lambda x: process.extractOne(str(x),fpl20_teamnames))"
   ]
  },
  {
   "cell_type": "markdown",
   "metadata": {},
   "source": [
    "# Extract the name of the club and score for the matched club. "
   ]
  },
  {
   "cell_type": "code",
   "execution_count": 10,
   "metadata": {},
   "outputs": [],
   "source": [
    "fifa21_abbr['matching_fpl_team_name'] = fifa21_abbr['matching_fpl_team'].apply(lambda x: x[0])\n",
    "fifa21_abbr['matching_fpl_team_score'] = fifa21_abbr['matching_fpl_team'].apply(lambda x: x[1])"
   ]
  },
  {
   "cell_type": "markdown",
   "metadata": {},
   "source": [
    "# Sort the fifa clubs by the match score and retain the highest match as the correct result. "
   ]
  },
  {
   "cell_type": "code",
   "execution_count": 11,
   "metadata": {},
   "outputs": [],
   "source": [
    "fifa21_abbr_epl_teams = fifa21_abbr.sort_values('matching_fpl_team_score',ascending = False).groupby(['matching_fpl_team_name']).apply(lambda df: df.iloc[0])"
   ]
  },
  {
   "cell_type": "markdown",
   "metadata": {},
   "source": [
    "# Select only matched teams from FIFA "
   ]
  },
  {
   "cell_type": "code",
   "execution_count": 12,
   "metadata": {},
   "outputs": [],
   "source": [
    "fifa21_abbr_epl = fifa21_abbr[fifa21_abbr['Club'].isin(fifa21_abbr_epl_teams['Club'])]\n",
    "\n",
    "players_wteamnames['fullname'] = players_wteamnames['first_name'] + ' ' + players_wteamnames['second_name']"
   ]
  },
  {
   "cell_type": "markdown",
   "metadata": {},
   "source": [
    "# Fuzzywuzzy matching similar to club name\n",
    "We will again use Fuzzywuzzy to match the player name from FIFA to that from FPL. Once we have that, we will merge the FIFA dataset on the player name."
   ]
  },
  {
   "cell_type": "code",
   "execution_count": 13,
   "metadata": {},
   "outputs": [],
   "source": [
    "players_wteamnames['name_matching'] = players_wteamnames.apply(lambda row : process.extractOne(str(row['web_name']),fifa21_abbr_epl[fifa21_abbr_epl['matching_fpl_team_name']==row['full_club_name']]['Name'].tolist()),axis = 1 )\n",
    "players_wteamnames['name_match_score'] = players_wteamnames['name_matching'].apply(lambda x: x[1])\n",
    "players_wteamnames['name_match_name'] = players_wteamnames['name_matching'].apply(lambda x: x[0])"
   ]
  },
  {
   "cell_type": "markdown",
   "metadata": {},
   "source": [
    "# Merge on player name"
   ]
  },
  {
   "cell_type": "code",
   "execution_count": 14,
   "metadata": {},
   "outputs": [],
   "source": [
    "players_merged = players_wteamnames.merge(fifa21_abbr_epl,left_on = 'name_match_name',right_on = 'Name',suffixes = ('','_fifa'))"
   ]
  },
  {
   "cell_type": "code",
   "execution_count": 15,
   "metadata": {},
   "outputs": [],
   "source": [
    "players = players_merged[['code','dreamteam_count', 'element_type','first_name','id', 'now_cost',\n",
    "                          'second_name', 'points_per_game', 'special', 'squad_number',\n",
    "    'status', 'team', 'team_code', 'total_points', 'transfers_in', 'transfers_out', \n",
    "    'web_name', 'minutes', 'goals_scored',\n",
    "    'assists', 'clean_sheets', 'goals_conceded', 'own_goals',\n",
    "    'penalties_saved', 'penalties_missed', 'yellow_cards', 'red_cards',\n",
    "    'saves', 'bonus', 'bps', 'influence', 'creativity', 'threat',\n",
    "    'ict_index', 'name',  'points', 'position', 'win','played','draw', 'loss',\n",
    "    'short_name', 'strength', 'full_club_name','ID', 'Name', \n",
    "    'Nationality', 'Best Position', 'Overall',\n",
    "    'Age', 'Potential', 'Club','cost_change_start']].copy()"
   ]
  },
  {
   "cell_type": "markdown",
   "metadata": {},
   "source": [
    "# Get the starting cost of the player"
   ]
  },
  {
   "cell_type": "code",
   "execution_count": 16,
   "metadata": {},
   "outputs": [],
   "source": [
    "players['starting_cost'] = players['now_cost'] - players['cost_change_start']"
   ]
  },
  {
   "cell_type": "markdown",
   "metadata": {},
   "source": [
    "# Clubs by Average Player Rating in FIFA"
   ]
  },
  {
   "cell_type": "code",
   "execution_count": 17,
   "metadata": {},
   "outputs": [
    {
     "data": {
      "image/png": "[encoded data removed]",
      "text/plain": [
       "<Figure size 1080x720 with 1 Axes>"
      ]
     },
     "metadata": {
      "needs_background": "light"
     },
     "output_type": "display_data"
    }
   ],
   "source": [
    "plt.figure(figsize=(15,10))\n",
    "plt.title(\"Clubs by Average Player Rating in FIFA\")\n",
    "club_overall = players.groupby('short_name')['Overall'].mean().sort_values(ascending = False)\n",
    "import seaborn as sns\n",
    "plt.ylabel(\"Team FIFA Rating\")\n",
    "plt.xlabel(\"FPL Club\")\n",
    "sns.barplot(x=club_overall.index, y=club_overall).set(ylim = (65,85))\n",
    "plt.show()"
   ]
  },
  {
   "cell_type": "markdown",
   "metadata": {},
   "source": [
    "# Average Player Rating"
   ]
  },
  {
   "cell_type": "code",
   "execution_count": 44,
   "metadata": {},
   "outputs": [
    {
     "data": {
      "image/png": "[encoded data removed]",
      "text/plain": [
       "<Figure size 1440x360 with 2 Axes>"
      ]
     },
     "metadata": {
      "needs_background": "light"
     },
     "output_type": "display_data"
    }
   ],
   "source": [
    "club_pos_overall = players.groupby(by = ['short_name','element_type'],as_index = False)['Overall'].mean()\n",
    "#club_pos_overall['pos'] = club_pos_overall['element_type'].replace({1:'GK',2:'DEF',3:'MID',4:'FWD'})\n",
    "club_pos_overall\n",
    "club_pos_overall = club_pos_overall.pivot_table(values = 'Overall',index = ['element_type'],columns = 'short_name')\n",
    "club_pos_overall.sort_index(ascending = False)\n",
    "club_pos_overall.index = ['GK','DEF','MID','FWD']\n",
    "plt.figure(figsize=(20,5))\n",
    "plt.title(\"Average Player Rating\")\n",
    "\n",
    "sns.heatmap(data=club_pos_overall, annot=True, cmap = 'coolwarm')\n",
    "\n",
    "# Add label for horizontal axis\n",
    "plt.xlabel(\"FPL Club\")\n",
    "plt.ylabel(\"FPL Position\")\n",
    "plt.show()"
   ]
  },
  {
   "cell_type": "markdown",
   "metadata": {},
   "source": [
    "We can see that City, Liverpool, TOT has fantastic forward players and midfielders."
   ]
  },
  {
   "cell_type": "markdown",
   "metadata": {},
   "source": [
    "# Best Player Rating\n",
    "Since the above graph gives average rating, it is hard to tell who has the best players. The chart below gives the rating for the best player in each position."
   ]
  },
  {
   "cell_type": "code",
   "execution_count": 19,
   "metadata": {
    "scrolled": true
   },
   "outputs": [
    {
     "data": {
      "image/png": "[encoded data removed]",
      "text/plain": [
       "<Figure size 1440x360 with 2 Axes>"
      ]
     },
     "metadata": {
      "needs_background": "light"
     },
     "output_type": "display_data"
    }
   ],
   "source": [
    "club_pos_overall = players.groupby(by = ['short_name','element_type'],as_index = False)['Overall'].max()\n",
    "#club_pos_overall['pos'] = club_pos_overall['element_type'].replace({1:'GK',2:'DEF',3:'MID',4:'FWD'})\n",
    "club_pos_overall\n",
    "club_pos_overall = club_pos_overall.pivot_table(values = 'Overall',index = ['element_type'],columns = 'short_name')\n",
    "club_pos_overall.sort_index(ascending = False)\n",
    "club_pos_overall.index = ['GK','DEF','MID','FWD']\n",
    "plt.figure(figsize=(20,5))\n",
    "plt.title(\"Best Player Rating\")\n",
    "\n",
    "sns.heatmap(data=club_pos_overall, annot=True, cmap = 'coolwarm')\n",
    "\n",
    "# Add label for horizontal axis\n",
    "plt.xlabel(\"FPL Club\")\n",
    "plt.show()"
   ]
  },
  {
   "cell_type": "markdown",
   "metadata": {},
   "source": [
    "# Modeling\n",
    "We are going to train an Regressor model on this dataset with the y variable as output. \n",
    "\n",
    "First we want to only use the features that we know before the season starts. Our prediction is about the number of FPL points per game that a player will earn at the end of the season. Note that we are predicting points per game and not total points since, the total points will depend a lot on various factors that occur over the season, e.g. number of minutes player, risk of injury, rotation, etc.\n",
    "\n",
    "But we should remove all other features that we will only know after the season is over.\n",
    "\n",
    "We will split the dataset into test,train and then start the modeling process."
   ]
  },
  {
   "cell_type": "code",
   "execution_count": 20,
   "metadata": {},
   "outputs": [],
   "source": [
    "model_data = players[['code', 'element_type','first_name','id','starting_cost','second_name', 'points_per_game',\n",
    "                      'status', 'team', 'team_code', 'web_name','bps', 'name', 'short_name', 'full_club_name',\n",
    "                      'ID', 'Name', \n",
    "    'Nationality', 'Best Position', 'Overall',\n",
    "    'Age', 'Potential', 'Club',]].copy()\n",
    "\n",
    "from sklearn.model_selection import train_test_split\n",
    "y = model_data['points_per_game'].astype('float')\n",
    "X = model_data.drop(['points_per_game','bps'],axis = 1)\n",
    "X_train, X_test, y_train, y_test = train_test_split(X,y,train_size = 0.8, random_state = 0)"
   ]
  },
  {
   "cell_type": "code",
   "execution_count": 22,
   "metadata": {},
   "outputs": [
    {
     "data": {
      "image/png": "[encoded data removed]",
      "text/plain": [
       "<Figure size 1440x504 with 2 Axes>"
      ]
     },
     "metadata": {
      "needs_background": "light"
     },
     "output_type": "display_data"
    }
   ],
   "source": [
    "fifa = model_data\n",
    "plt.figure(figsize=(20,7))\n",
    "sns.heatmap(round(fifa.corr(),2),annot=True,cmap='Reds')\n",
    "plt.show()"
   ]
  },
  {
   "cell_type": "markdown",
   "metadata": {},
   "source": [
    "The position of the player is given by element type. It is a numeric field but carries label data and hence we need to encode that using onehot encoding."
   ]
  },
  {
   "cell_type": "code",
   "execution_count": 61,
   "metadata": {},
   "outputs": [],
   "source": [
    "model1 = ['starting_cost','Overall','Age','Potential','element_type','short_name']\n",
    "model2 = ['starting_cost','Overall','Age','Potential','element_type','short_name','Name','id','code','ID']\n",
    "model3 = ['code', 'element_type','first_name','id','starting_cost','second_name','status', 'team', 'team_code', 'web_name', 'name', 'short_name', 'full_club_name','ID', 'Name','Nationality', 'Best Position', 'Overall','Age', 'Potential', 'Club']"
   ]
  },
  {
   "cell_type": "markdown",
   "metadata": {},
   "source": [
    "# XGBoost"
   ]
  },
  {
   "cell_type": "code",
   "execution_count": 62,
   "metadata": {},
   "outputs": [
    {
     "data": {
      "text/plain": [
       "0.5625429923983588"
      ]
     },
     "execution_count": 62,
     "metadata": {},
     "output_type": "execute_result"
    }
   ],
   "source": [
    "from sklearn.metrics import mean_absolute_error , mean_squared_error\n",
    "model_3_columns = model1\n",
    "X_train_model_3 = X_train[model_3_columns].reset_index()\n",
    "X_test_model_3 = X_test[model_3_columns].reset_index()\n",
    "from sklearn.preprocessing import OneHotEncoder\n",
    "OH_encoder = OneHotEncoder(handle_unknown='ignore', sparse=False)\n",
    "\n",
    "OH_pos_club = OH_encoder.fit_transform(X_train_model_3[['element_type','short_name']])\n",
    "club_pos_df_xtrain = pd.DataFrame(OH_pos_club)\n",
    "\n",
    "X_train_model_3_encoded = pd.concat([X_train_model_3,club_pos_df_xtrain],axis = 1,ignore_index=False)\n",
    "X_train_model_3_encoded = X_train_model_3_encoded.drop(['index','element_type','short_name'],axis = 1)\n",
    "\n",
    "model_3 = XGBRegressor(random_state = 0,learning_rate = 0.05)\n",
    "model_3.fit(X_train_model_3_encoded,y_train)\n",
    "\n",
    "club_pos_df_xtest = OH_encoder.transform(X_test_model_3[['element_type','short_name']])\n",
    "\n",
    "club_pos_df_xtest = pd.DataFrame(club_pos_df_xtest)\n",
    "\n",
    "X_test_model_3_encoded = pd.concat([X_test_model_3,club_pos_df_xtest],axis = 1,ignore_index=False)\n",
    "X_test_model_3_encoded = X_test_model_3_encoded.drop(['index','element_type','short_name'],axis = 1)\n",
    "\n",
    "preds3 = model_3.predict(X_test_model_3_encoded)\n",
    "\n",
    "error = mean_absolute_error(y_test,preds3)\n",
    "\n",
    "errors_df_model_3 = pd.DataFrame(y_test.values,preds3).reset_index()\n",
    "errors_df_model_3.columns = ['actual','predicted']\n",
    "higher_ppg_errors = errors_df_model_3[errors_df_model_3['predicted']>2]\n",
    "mae_value = mean_absolute_error(higher_ppg_errors.actual,higher_ppg_errors.predicted)\n",
    "mae_value"
   ]
  },
  {
   "cell_type": "markdown",
   "metadata": {},
   "source": [
    "# Random Forest Regressor"
   ]
  },
  {
   "cell_type": "code",
   "execution_count": 63,
   "metadata": {},
   "outputs": [
    {
     "data": {
      "text/plain": [
       "0.5423606970324362"
      ]
     },
     "execution_count": 63,
     "metadata": {},
     "output_type": "execute_result"
    }
   ],
   "source": [
    "from sklearn.ensemble import RandomForestRegressor\n",
    "model_3_columns =  model1\n",
    "X_train_model_3 = X_train[model_3_columns].reset_index()\n",
    "X_test_model_3 = X_test[model_3_columns].reset_index()\n",
    "from sklearn.preprocessing import OneHotEncoder\n",
    "OH_encoder = OneHotEncoder(handle_unknown='ignore', sparse=False)\n",
    "\n",
    "OH_pos_club = OH_encoder.fit_transform(X_train_model_3[['element_type','short_name']])\n",
    "club_pos_df_xtrain = pd.DataFrame(OH_pos_club)\n",
    "\n",
    "X_train_model_3_encoded = pd.concat([X_train_model_3,club_pos_df_xtrain],axis = 1,ignore_index=False)\n",
    "X_train_model_3_encoded = X_train_model_3_encoded.drop(['index','element_type','short_name'],axis = 1)\n",
    "\n",
    "model_3 = RandomForestRegressor(random_state = 0)\n",
    "model_3.fit(X_train_model_3_encoded,y_train)\n",
    "\n",
    "club_pos_df_xtest = OH_encoder.transform(X_test_model_3[['element_type','short_name']])\n",
    "\n",
    "club_pos_df_xtest = pd.DataFrame(club_pos_df_xtest)\n",
    "\n",
    "X_test_model_3_encoded = pd.concat([X_test_model_3,club_pos_df_xtest],axis = 1,ignore_index=False)\n",
    "X_test_model_3_encoded = X_test_model_3_encoded.drop(['index','element_type','short_name'],axis = 1)\n",
    "\n",
    "preds3 = model_3.predict(X_test_model_3_encoded)\n",
    "\n",
    "error = mean_absolute_error(y_test,preds3)\n",
    "\n",
    "errors_df_model_3 = pd.DataFrame(y_test.values,preds3).reset_index()\n",
    "errors_df_model_3.columns = ['actual','predicted']\n",
    "higher_ppg_errors = errors_df_model_3[errors_df_model_3['predicted']>2]\n",
    "mae_value = mean_absolute_error(higher_ppg_errors.actual,higher_ppg_errors.predicted)\n",
    "mae_value"
   ]
  },
  {
   "cell_type": "markdown",
   "metadata": {},
   "source": [
    "# Linear Regression"
   ]
  },
  {
   "cell_type": "code",
   "execution_count": 64,
   "metadata": {},
   "outputs": [
    {
     "data": {
      "text/plain": [
       "0.6306872823963996"
      ]
     },
     "execution_count": 64,
     "metadata": {},
     "output_type": "execute_result"
    }
   ],
   "source": [
    "model_3_columns = model1\n",
    "X_train_model_3 = X_train[model_3_columns].reset_index()\n",
    "X_test_model_3 = X_test[model_3_columns].reset_index()\n",
    "from sklearn.preprocessing import OneHotEncoder\n",
    "OH_encoder = OneHotEncoder(handle_unknown='ignore', sparse=False)\n",
    "\n",
    "OH_pos_club = OH_encoder.fit_transform(X_train_model_3[['element_type','short_name']])\n",
    "club_pos_df_xtrain = pd.DataFrame(OH_pos_club)\n",
    "\n",
    "X_train_model_3_encoded = pd.concat([X_train_model_3,club_pos_df_xtrain],axis = 1,ignore_index=False)\n",
    "X_train_model_3_encoded = X_train_model_3_encoded.drop(['index','element_type','short_name'],axis = 1)\n",
    "\n",
    "model_3 = LinearRegression()\n",
    "model_3.fit(X_train_model_3_encoded,y_train)\n",
    "\n",
    "club_pos_df_xtest = OH_encoder.transform(X_test_model_3[['element_type','short_name']])\n",
    "\n",
    "club_pos_df_xtest = pd.DataFrame(club_pos_df_xtest)\n",
    "\n",
    "X_test_model_3_encoded = pd.concat([X_test_model_3,club_pos_df_xtest],axis = 1,ignore_index=False)\n",
    "X_test_model_3_encoded = X_test_model_3_encoded.drop(['index','element_type','short_name'],axis = 1)\n",
    "\n",
    "preds3 = model_3.predict(X_test_model_3_encoded)\n",
    "\n",
    "error = mean_absolute_error(y_test,preds3)\n",
    "error = mean_absolute_error(y_test,preds3)\n",
    "errors_df_model_3 = pd.DataFrame(y_test.values,preds3).reset_index()\n",
    "errors_df_model_3.columns = ['actual','predicted']\n",
    "higher_ppg_errors = errors_df_model_3[errors_df_model_3['predicted']>2]\n",
    "mae_value = mean_absolute_error(higher_ppg_errors.actual,higher_ppg_errors.predicted)\n",
    "mae_value"
   ]
  },
  {
   "cell_type": "markdown",
   "metadata": {},
   "source": [
    "## Elastic Net"
   ]
  },
  {
   "cell_type": "code",
   "execution_count": 65,
   "metadata": {},
   "outputs": [
    {
     "data": {
      "text/plain": [
       "0.6786143106970052"
      ]
     },
     "execution_count": 65,
     "metadata": {},
     "output_type": "execute_result"
    }
   ],
   "source": [
    "model_3_columns = model1\n",
    "X_train_model_3 = X_train[model_3_columns].reset_index()\n",
    "X_test_model_3 = X_test[model_3_columns].reset_index()\n",
    "from sklearn.preprocessing import OneHotEncoder\n",
    "OH_encoder = OneHotEncoder(handle_unknown='ignore', sparse=False)\n",
    "\n",
    "OH_pos_club = OH_encoder.fit_transform(X_train_model_3[['element_type','short_name']])\n",
    "club_pos_df_xtrain = pd.DataFrame(OH_pos_club)\n",
    "\n",
    "X_train_model_3_encoded = pd.concat([X_train_model_3,club_pos_df_xtrain],axis = 1,ignore_index=False)\n",
    "X_train_model_3_encoded = X_train_model_3_encoded.drop(['index','element_type','short_name'],axis = 1)\n",
    "\n",
    "model_3 = ElasticNet()\n",
    "model_3.fit(X_train_model_3_encoded,y_train)\n",
    "\n",
    "club_pos_df_xtest = OH_encoder.transform(X_test_model_3[['element_type','short_name']])\n",
    "\n",
    "club_pos_df_xtest = pd.DataFrame(club_pos_df_xtest)\n",
    "\n",
    "X_test_model_3_encoded = pd.concat([X_test_model_3,club_pos_df_xtest],axis = 1,ignore_index=False)\n",
    "X_test_model_3_encoded = X_test_model_3_encoded.drop(['index','element_type','short_name'],axis = 1)\n",
    "\n",
    "preds3 = model_3.predict(X_test_model_3_encoded)\n",
    "\n",
    "error = mean_absolute_error(y_test,preds3)\n",
    "error = mean_absolute_error(y_test,preds3)\n",
    "errors_df_model_3 = pd.DataFrame(y_test.values,preds3).reset_index()\n",
    "errors_df_model_3.columns = ['actual','predicted']\n",
    "higher_ppg_errors = errors_df_model_3[errors_df_model_3['predicted']>2]\n",
    "mae_value = mean_absolute_error(higher_ppg_errors.actual,higher_ppg_errors.predicted)\n",
    "mae_value"
   ]
  },
  {
   "cell_type": "markdown",
   "metadata": {},
   "source": [
    "## ['starting_cost','Overall','Age','Potential','element_type','short_name','Name','id','code','ID']"
   ]
  },
  {
   "cell_type": "markdown",
   "metadata": {},
   "source": [
    "## XGBoost"
   ]
  },
  {
   "cell_type": "code",
   "execution_count": 66,
   "metadata": {},
   "outputs": [
    {
     "data": {
      "text/plain": [
       "0.5097082062044004"
      ]
     },
     "execution_count": 66,
     "metadata": {},
     "output_type": "execute_result"
    }
   ],
   "source": [
    "model_3_columns = model2\n",
    "X_train_model_3 = X_train[model_3_columns].reset_index()\n",
    "X_test_model_3 = X_test[model_3_columns].reset_index()\n",
    "from sklearn.preprocessing import OneHotEncoder\n",
    "OH_encoder = OneHotEncoder(handle_unknown='ignore', sparse=False)\n",
    "\n",
    "OH_pos_club = OH_encoder.fit_transform(X_train_model_3[['element_type','short_name','Name']])\n",
    "club_pos_df_xtrain = pd.DataFrame(OH_pos_club)\n",
    "\n",
    "X_train_model_3_encoded = pd.concat([X_train_model_3,club_pos_df_xtrain],axis = 1,ignore_index=False)\n",
    "X_train_model_3_encoded = X_train_model_3_encoded.drop(['index','element_type','short_name','Name'],axis = 1)\n",
    "\n",
    "model_3 = XGBRegressor(random_state = 0,learning_rate = 0.05)\n",
    "model_3.fit(X_train_model_3_encoded,y_train)\n",
    "\n",
    "club_pos_df_xtest = OH_encoder.transform(X_test_model_3[['element_type','short_name','Name']])\n",
    "\n",
    "club_pos_df_xtest = pd.DataFrame(club_pos_df_xtest)\n",
    "\n",
    "X_test_model_3_encoded = pd.concat([X_test_model_3,club_pos_df_xtest],axis = 1,ignore_index=False)\n",
    "X_test_model_3_encoded = X_test_model_3_encoded.drop(['index','element_type','short_name','Name'],axis = 1)\n",
    "\n",
    "preds3 = model_3.predict(X_test_model_3_encoded)\n",
    "\n",
    "error = mean_absolute_error(y_test,preds3)\n",
    "\n",
    "errors_df_model_3 = pd.DataFrame(y_test.values,preds3).reset_index()\n",
    "errors_df_model_3.columns = ['actual','predicted']\n",
    "higher_ppg_errors = errors_df_model_3[errors_df_model_3['predicted']>2]\n",
    "mae_value = mean_absolute_error(higher_ppg_errors.actual,higher_ppg_errors.predicted)\n",
    "mae_value"
   ]
  },
  {
   "cell_type": "markdown",
   "metadata": {},
   "source": [
    "## Random Forest Regressor"
   ]
  },
  {
   "cell_type": "code",
   "execution_count": 67,
   "metadata": {},
   "outputs": [
    {
     "data": {
      "text/plain": [
       "0.5110579710144931"
      ]
     },
     "execution_count": 67,
     "metadata": {},
     "output_type": "execute_result"
    }
   ],
   "source": [
    "model_3_columns = model2\n",
    "X_train_model_3 = X_train[model_3_columns].reset_index()\n",
    "X_test_model_3 = X_test[model_3_columns].reset_index()\n",
    "from sklearn.preprocessing import OneHotEncoder\n",
    "OH_encoder = OneHotEncoder(handle_unknown='ignore', sparse=False)\n",
    "\n",
    "OH_pos_club = OH_encoder.fit_transform(X_train_model_3[['element_type','short_name','Name']])\n",
    "club_pos_df_xtrain = pd.DataFrame(OH_pos_club)\n",
    "\n",
    "X_train_model_3_encoded = pd.concat([X_train_model_3,club_pos_df_xtrain],axis = 1,ignore_index=False)\n",
    "X_train_model_3_encoded = X_train_model_3_encoded.drop(['index','element_type','short_name','Name'],axis = 1)\n",
    "\n",
    "model_3 = RandomForestRegressor(random_state = 0)\n",
    "model_3.fit(X_train_model_3_encoded,y_train)\n",
    "\n",
    "club_pos_df_xtest = OH_encoder.transform(X_test_model_3[['element_type','short_name','Name']])\n",
    "\n",
    "club_pos_df_xtest = pd.DataFrame(club_pos_df_xtest)\n",
    "\n",
    "X_test_model_3_encoded = pd.concat([X_test_model_3,club_pos_df_xtest],axis = 1,ignore_index=False)\n",
    "X_test_model_3_encoded = X_test_model_3_encoded.drop(['index','element_type','short_name','Name'],axis = 1)\n",
    "\n",
    "preds3 = model_3.predict(X_test_model_3_encoded)\n",
    "\n",
    "error = mean_absolute_error(y_test,preds3)\n",
    "\n",
    "errors_df_model_3 = pd.DataFrame(y_test.values,preds3).reset_index()\n",
    "errors_df_model_3.columns = ['actual','predicted']\n",
    "higher_ppg_errors = errors_df_model_3[errors_df_model_3['predicted']>2]\n",
    "mae_value = mean_absolute_error(higher_ppg_errors.actual,higher_ppg_errors.predicted)\n",
    "mae_value"
   ]
  },
  {
   "cell_type": "markdown",
   "metadata": {},
   "source": [
    "## LinearRegression"
   ]
  },
  {
   "cell_type": "code",
   "execution_count": 68,
   "metadata": {},
   "outputs": [
    {
     "data": {
      "text/plain": [
       "0.8403830837876812"
      ]
     },
     "execution_count": 68,
     "metadata": {},
     "output_type": "execute_result"
    }
   ],
   "source": [
    "model_3_columns = model2\n",
    "X_train_model_3 = X_train[model_3_columns].reset_index()\n",
    "X_test_model_3 = X_test[model_3_columns].reset_index()\n",
    "from sklearn.preprocessing import OneHotEncoder\n",
    "OH_encoder = OneHotEncoder(handle_unknown='ignore', sparse=False)\n",
    "\n",
    "OH_pos_club = OH_encoder.fit_transform(X_train_model_3[['element_type','short_name','Name']])\n",
    "club_pos_df_xtrain = pd.DataFrame(OH_pos_club)\n",
    "\n",
    "X_train_model_3_encoded = pd.concat([X_train_model_3,club_pos_df_xtrain],axis = 1,ignore_index=False)\n",
    "X_train_model_3_encoded = X_train_model_3_encoded.drop(['index','element_type','short_name','Name'],axis = 1)\n",
    "\n",
    "model_3 = LinearRegression()\n",
    "model_3.fit(X_train_model_3_encoded,y_train)\n",
    "\n",
    "club_pos_df_xtest = OH_encoder.transform(X_test_model_3[['element_type','short_name','Name']])\n",
    "\n",
    "club_pos_df_xtest = pd.DataFrame(club_pos_df_xtest)\n",
    "\n",
    "X_test_model_3_encoded = pd.concat([X_test_model_3,club_pos_df_xtest],axis = 1,ignore_index=False)\n",
    "X_test_model_3_encoded = X_test_model_3_encoded.drop(['index','element_type','short_name','Name'],axis = 1)\n",
    "\n",
    "preds3 = model_3.predict(X_test_model_3_encoded)\n",
    "\n",
    "error = mean_absolute_error(y_test,preds3)\n",
    "error = mean_absolute_error(y_test,preds3)\n",
    "errors_df_model_3 = pd.DataFrame(y_test.values,preds3).reset_index()\n",
    "errors_df_model_3.columns = ['actual','predicted']\n",
    "higher_ppg_errors = errors_df_model_3[errors_df_model_3['predicted']>2]\n",
    "mae_value = mean_absolute_error(higher_ppg_errors.actual,higher_ppg_errors.predicted)\n",
    "mae_value"
   ]
  },
  {
   "cell_type": "markdown",
   "metadata": {},
   "source": [
    "## ElasticNet"
   ]
  },
  {
   "cell_type": "code",
   "execution_count": 69,
   "metadata": {},
   "outputs": [
    {
     "data": {
      "text/plain": [
       "0.6705006966255588"
      ]
     },
     "execution_count": 69,
     "metadata": {},
     "output_type": "execute_result"
    }
   ],
   "source": [
    "model_3_columns = model2\n",
    "X_train_model_3 = X_train[model_3_columns].reset_index()\n",
    "X_test_model_3 = X_test[model_3_columns].reset_index()\n",
    "from sklearn.preprocessing import OneHotEncoder\n",
    "OH_encoder = OneHotEncoder(handle_unknown='ignore', sparse=False)\n",
    "\n",
    "OH_pos_club = OH_encoder.fit_transform(X_train_model_3[['element_type','short_name','Name']])\n",
    "club_pos_df_xtrain = pd.DataFrame(OH_pos_club)\n",
    "\n",
    "X_train_model_3_encoded = pd.concat([X_train_model_3,club_pos_df_xtrain],axis = 1,ignore_index=False)\n",
    "X_train_model_3_encoded = X_train_model_3_encoded.drop(['index','element_type','short_name','Name'],axis = 1)\n",
    "\n",
    "model_3 = ElasticNet()\n",
    "model_3.fit(X_train_model_3_encoded,y_train)\n",
    "\n",
    "club_pos_df_xtest = OH_encoder.transform(X_test_model_3[['element_type','short_name','Name']])\n",
    "\n",
    "club_pos_df_xtest = pd.DataFrame(club_pos_df_xtest)\n",
    "\n",
    "X_test_model_3_encoded = pd.concat([X_test_model_3,club_pos_df_xtest],axis = 1,ignore_index=False)\n",
    "X_test_model_3_encoded = X_test_model_3_encoded.drop(['index','element_type','short_name','Name'],axis = 1)\n",
    "\n",
    "preds3 = model_3.predict(X_test_model_3_encoded)\n",
    "\n",
    "error = mean_absolute_error(y_test,preds3)\n",
    "error = mean_absolute_error(y_test,preds3)\n",
    "errors_df_model_3 = pd.DataFrame(y_test.values,preds3).reset_index()\n",
    "errors_df_model_3.columns = ['actual','predicted']\n",
    "higher_ppg_errors = errors_df_model_3[errors_df_model_3['predicted']>2]\n",
    "mae_value = mean_absolute_error(higher_ppg_errors.actual,higher_ppg_errors.predicted)\n",
    "mae_value"
   ]
  },
  {
   "cell_type": "markdown",
   "metadata": {},
   "source": [
    "## ['code', 'element_type','first_name','id','starting_cost','second_name','status', 'team', 'team_code', 'web_name', 'name', 'short_name', 'full_club_name','ID', 'Name','Nationality', 'Best Position', 'Overall','Age', 'Potential', 'Club']"
   ]
  },
  {
   "cell_type": "markdown",
   "metadata": {},
   "source": [
    "## XGBRegressor"
   ]
  },
  {
   "cell_type": "code",
   "execution_count": 70,
   "metadata": {},
   "outputs": [
    {
     "data": {
      "text/plain": [
       "0.5049395108568495"
      ]
     },
     "execution_count": 70,
     "metadata": {},
     "output_type": "execute_result"
    }
   ],
   "source": [
    "model_3_columns = model3\n",
    "X_train_model_3 = X_train[model_3_columns].reset_index()\n",
    "X_test_model_3 = X_test[model_3_columns].reset_index()\n",
    "from sklearn.preprocessing import OneHotEncoder\n",
    "OH_encoder = OneHotEncoder(handle_unknown='ignore', sparse=False)\n",
    "\n",
    "OH_pos_club = OH_encoder.fit_transform(X_train_model_3[['element_type','first_name','second_name','status', 'web_name', 'name', 'short_name', 'full_club_name','Name','Nationality', 'Best Position', 'Club']])\n",
    "club_pos_df_xtrain = pd.DataFrame(OH_pos_club)\n",
    "\n",
    "X_train_model_3_encoded = pd.concat([X_train_model_3,club_pos_df_xtrain],axis = 1,ignore_index=False)\n",
    "X_train_model_3_encoded = X_train_model_3_encoded.drop(['index','element_type','first_name','second_name','status', 'web_name', 'name', 'short_name', 'full_club_name','Name','Nationality', 'Best Position', 'Club'],axis = 1)\n",
    "\n",
    "model_3 = XGBRegressor(random_state = 0,learning_rate = 0.05)\n",
    "model_3.fit(X_train_model_3_encoded,y_train)\n",
    "\n",
    "club_pos_df_xtest = OH_encoder.transform(X_test_model_3[['element_type','first_name','second_name','status', 'web_name', 'name', 'short_name', 'full_club_name','Name','Nationality', 'Best Position', 'Club']])\n",
    "\n",
    "club_pos_df_xtest = pd.DataFrame(club_pos_df_xtest)\n",
    "\n",
    "X_test_model_3_encoded = pd.concat([X_test_model_3,club_pos_df_xtest],axis = 1,ignore_index=False)\n",
    "X_test_model_3_encoded = X_test_model_3_encoded.drop(['index','element_type','first_name','second_name','status', 'web_name', 'name', 'short_name', 'full_club_name','Name','Nationality', 'Best Position', 'Club'],axis = 1)\n",
    "\n",
    "preds3 = model_3.predict(X_test_model_3_encoded)\n",
    "\n",
    "error = mean_absolute_error(y_test,preds3)\n",
    "\n",
    "errors_df_model_3 = pd.DataFrame(y_test.values,preds3).reset_index()\n",
    "errors_df_model_3.columns = ['actual','predicted']\n",
    "higher_ppg_errors = errors_df_model_3[errors_df_model_3['predicted']>2]\n",
    "mae_value = mean_absolute_error(higher_ppg_errors.actual,higher_ppg_errors.predicted)\n",
    "mae_value"
   ]
  },
  {
   "cell_type": "markdown",
   "metadata": {},
   "source": [
    "## Random Forest Regressor"
   ]
  },
  {
   "cell_type": "code",
   "execution_count": 71,
   "metadata": {},
   "outputs": [
    {
     "data": {
      "text/plain": [
       "0.519550724637681"
      ]
     },
     "execution_count": 71,
     "metadata": {},
     "output_type": "execute_result"
    }
   ],
   "source": [
    "model_3_columns = model3\n",
    "X_train_model_3 = X_train[model_3_columns].reset_index()\n",
    "X_test_model_3 = X_test[model_3_columns].reset_index()\n",
    "from sklearn.preprocessing import OneHotEncoder\n",
    "OH_encoder = OneHotEncoder(handle_unknown='ignore', sparse=False)\n",
    "\n",
    "OH_pos_club = OH_encoder.fit_transform(X_train_model_3[['element_type','first_name','second_name','status', 'web_name', 'name', 'short_name', 'full_club_name','Name','Nationality', 'Best Position', 'Club']])\n",
    "club_pos_df_xtrain = pd.DataFrame(OH_pos_club)\n",
    "\n",
    "X_train_model_3_encoded = pd.concat([X_train_model_3,club_pos_df_xtrain],axis = 1,ignore_index=False)\n",
    "X_train_model_3_encoded = X_train_model_3_encoded.drop(['index','element_type','first_name','second_name','status', 'web_name', 'name', 'short_name', 'full_club_name','Name','Nationality', 'Best Position', 'Club'],axis = 1)\n",
    "\n",
    "model_3 = RandomForestRegressor(random_state = 0)\n",
    "model_3.fit(X_train_model_3_encoded,y_train)\n",
    "\n",
    "club_pos_df_xtest = OH_encoder.transform(X_test_model_3[['element_type','first_name','second_name','status', 'web_name', 'name', 'short_name', 'full_club_name','Name','Nationality', 'Best Position', 'Club']])\n",
    "\n",
    "club_pos_df_xtest = pd.DataFrame(club_pos_df_xtest)\n",
    "\n",
    "X_test_model_3_encoded = pd.concat([X_test_model_3,club_pos_df_xtest],axis = 1,ignore_index=False)\n",
    "X_test_model_3_encoded = X_test_model_3_encoded.drop(['index','element_type','first_name','second_name','status', 'web_name', 'name', 'short_name', 'full_club_name','Name','Nationality', 'Best Position', 'Club'],axis = 1)\n",
    "\n",
    "preds3 = model_3.predict(X_test_model_3_encoded)\n",
    "\n",
    "error = mean_absolute_error(y_test,preds3)\n",
    "\n",
    "errors_df_model_3 = pd.DataFrame(y_test.values,preds3).reset_index()\n",
    "errors_df_model_3.columns = ['actual','predicted']\n",
    "higher_ppg_errors = errors_df_model_3[errors_df_model_3['predicted']>2]\n",
    "mae_value = mean_absolute_error(higher_ppg_errors.actual,higher_ppg_errors.predicted)\n",
    "mae_value"
   ]
  },
  {
   "cell_type": "markdown",
   "metadata": {},
   "source": [
    "## Linear Regression"
   ]
  },
  {
   "cell_type": "code",
   "execution_count": 72,
   "metadata": {},
   "outputs": [
    {
     "data": {
      "text/plain": [
       "0.6817005740629902"
      ]
     },
     "execution_count": 72,
     "metadata": {},
     "output_type": "execute_result"
    }
   ],
   "source": [
    "model_3_columns =  model3\n",
    "X_train_model_3 = X_train[model_3_columns].reset_index()\n",
    "X_test_model_3 = X_test[model_3_columns].reset_index()\n",
    "from sklearn.preprocessing import OneHotEncoder\n",
    "OH_encoder = OneHotEncoder(handle_unknown='ignore', sparse=False)\n",
    "\n",
    "OH_pos_club = OH_encoder.fit_transform(X_train_model_3[['element_type','first_name','second_name','status', 'web_name', 'name', 'short_name', 'full_club_name','Name','Nationality', 'Best Position', 'Club']])\n",
    "club_pos_df_xtrain = pd.DataFrame(OH_pos_club)\n",
    "\n",
    "X_train_model_3_encoded = pd.concat([X_train_model_3,club_pos_df_xtrain],axis = 1,ignore_index=False)\n",
    "X_train_model_3_encoded = X_train_model_3_encoded.drop(['index','element_type','first_name','second_name','status', 'web_name', 'name', 'short_name', 'full_club_name','Name','Nationality', 'Best Position', 'Club'],axis = 1)\n",
    "\n",
    "model_3 = LinearRegression()\n",
    "model_3.fit(X_train_model_3_encoded,y_train)\n",
    "\n",
    "club_pos_df_xtest = OH_encoder.transform(X_test_model_3[['element_type','first_name','second_name','status', 'web_name', 'name', 'short_name', 'full_club_name','Name','Nationality', 'Best Position', 'Club']])\n",
    "\n",
    "club_pos_df_xtest = pd.DataFrame(club_pos_df_xtest)\n",
    "\n",
    "X_test_model_3_encoded = pd.concat([X_test_model_3,club_pos_df_xtest],axis = 1,ignore_index=False)\n",
    "X_test_model_3_encoded = X_test_model_3_encoded.drop(['index','element_type','first_name','second_name','status', 'web_name', 'name', 'short_name', 'full_club_name','Name','Nationality', 'Best Position', 'Club'],axis = 1)\n",
    "\n",
    "preds3 = model_3.predict(X_test_model_3_encoded)\n",
    "\n",
    "error = mean_absolute_error(y_test,preds3)\n",
    "error = mean_absolute_error(y_test,preds3)\n",
    "errors_df_model_3 = pd.DataFrame(y_test.values,preds3).reset_index()\n",
    "errors_df_model_3.columns = ['actual','predicted']\n",
    "higher_ppg_errors = errors_df_model_3[errors_df_model_3['predicted']>2]\n",
    "mae_value = mean_absolute_error(higher_ppg_errors.actual,higher_ppg_errors.predicted)\n",
    "mae_value"
   ]
  },
  {
   "cell_type": "markdown",
   "metadata": {},
   "source": [
    "## Elastic Net"
   ]
  },
  {
   "cell_type": "code",
   "execution_count": 73,
   "metadata": {},
   "outputs": [
    {
     "data": {
      "text/plain": [
       "0.6703216836551796"
      ]
     },
     "execution_count": 73,
     "metadata": {},
     "output_type": "execute_result"
    }
   ],
   "source": [
    "model_3_columns = model3\n",
    "X_train_model_3 = X_train[model_3_columns].reset_index()\n",
    "X_test_model_3 = X_test[model_3_columns].reset_index()\n",
    "from sklearn.preprocessing import OneHotEncoder\n",
    "OH_encoder = OneHotEncoder(handle_unknown='ignore', sparse=False)\n",
    "\n",
    "OH_pos_club = OH_encoder.fit_transform(X_train_model_3[['element_type','first_name','second_name','status', 'web_name', 'name', 'short_name', 'full_club_name','Name','Nationality', 'Best Position', 'Club']])\n",
    "club_pos_df_xtrain = pd.DataFrame(OH_pos_club)\n",
    "\n",
    "X_train_model_3_encoded = pd.concat([X_train_model_3,club_pos_df_xtrain],axis = 1,ignore_index=False)\n",
    "X_train_model_3_encoded = X_train_model_3_encoded.drop(['index','element_type','first_name','second_name','status', 'web_name', 'name', 'short_name', 'full_club_name','Name','Nationality', 'Best Position', 'Club'],axis = 1)\n",
    "\n",
    "model_3 = ElasticNet()\n",
    "model_3.fit(X_train_model_3_encoded,y_train)\n",
    "\n",
    "club_pos_df_xtest = OH_encoder.transform(X_test_model_3[['element_type','first_name','second_name','status', 'web_name', 'name', 'short_name', 'full_club_name','Name','Nationality', 'Best Position', 'Club']])\n",
    "\n",
    "club_pos_df_xtest = pd.DataFrame(club_pos_df_xtest)\n",
    "\n",
    "X_test_model_3_encoded = pd.concat([X_test_model_3,club_pos_df_xtest],axis = 1,ignore_index=False)\n",
    "X_test_model_3_encoded = X_test_model_3_encoded.drop(['index','element_type','first_name','second_name','status', 'web_name', 'name', 'short_name', 'full_club_name','Name','Nationality', 'Best Position', 'Club'],axis = 1)\n",
    "\n",
    "preds3 = model_3.predict(X_test_model_3_encoded)\n",
    "\n",
    "error = mean_absolute_error(y_test,preds3)\n",
    "error = mean_absolute_error(y_test,preds3)\n",
    "errors_df_model_3 = pd.DataFrame(y_test.values,preds3).reset_index()\n",
    "errors_df_model_3.columns = ['actual','predicted']\n",
    "higher_ppg_errors = errors_df_model_3[errors_df_model_3['predicted']>2]\n",
    "mae_value = mean_absolute_error(higher_ppg_errors.actual,higher_ppg_errors.predicted)\n",
    "mae_value"
   ]
  },
  {
   "cell_type": "markdown",
   "metadata": {},
   "source": [
    "## Predicting player points"
   ]
  },
  {
   "cell_type": "code",
   "execution_count": 81,
   "metadata": {},
   "outputs": [
    {
     "data": {
      "text/plain": [
       "0.6786143106970052"
      ]
     },
     "execution_count": 81,
     "metadata": {},
     "output_type": "execute_result"
    }
   ],
   "source": [
    "\n",
    "\n",
    "\n",
    "X_train_model_3 = X_train[model_3_columns].reset_index()\n",
    "X_test_model_3 = X_test[model_3_columns].reset_index()\n",
    "from sklearn.preprocessing import OneHotEncoder\n",
    "OH_encoder = OneHotEncoder(handle_unknown='ignore', sparse=False)\n",
    "\n",
    "OH_pos_club = OH_encoder.fit_transform(X_train_model_3[['element_type', 'short_name']])\n",
    "club_pos_df_xtrain = pd.DataFrame(OH_pos_club)\n",
    "\n",
    "X_train_model_3_encoded = pd.concat([X_train_model_3,club_pos_df_xtrain],axis = 1,ignore_index=False)\n",
    "X_train_model_3_encoded = X_train_model_3_encoded.drop(['index','element_type','short_name'],axis = 1)\n",
    "\n",
    "model_3 = ElasticNet()\n",
    "model_3.fit(X_train_model_3_encoded,y_train)\n",
    "\n",
    "club_pos_df_xtest = OH_encoder.transform(X_test_model_3[['element_type', 'short_name']])\n",
    "\n",
    "club_pos_df_xtest = pd.DataFrame(club_pos_df_xtest)\n",
    "\n",
    "X_test_model_3_encoded = pd.concat([X_test_model_3,club_pos_df_xtest],axis = 1,ignore_index=False)\n",
    "X_test_model_3_encoded = X_test_model_3_encoded.drop(['index','element_type','short_name'],axis = 1)\n",
    "\n",
    "preds3 = model_3.predict(X_test_model_3_encoded)\n",
    "\n",
    "error = mean_absolute_error(y_test,preds3)\n",
    "error = mean_absolute_error(y_test,preds3)\n",
    "errors_df_model_3 = pd.DataFrame(y_test.values,preds3).reset_index()\n",
    "errors_df_model_3.columns = ['actual','predicted']\n",
    "higher_ppg_errors = errors_df_model_3[errors_df_model_3['predicted']>2]\n",
    "mae_value = mean_absolute_error(higher_ppg_errors.actual,higher_ppg_errors.predicted)\n",
    "mae_value"
   ]
  },
  {
   "cell_type": "markdown",
   "metadata": {},
   "source": [
    "## XGBoost "
   ]
  },
  {
   "cell_type": "code",
   "execution_count": 76,
   "metadata": {},
   "outputs": [
    {
     "data": {
      "text/plain": [
       "array([4.9722366], dtype=float32)"
      ]
     },
     "execution_count": 76,
     "metadata": {},
     "output_type": "execute_result"
    }
   ],
   "source": [
    "fifa_row = ['L. Suárez' in name for name in fifa21_abbr['Name']].index(True)\n",
    "fifa_details = fifa21_abbr.loc[fifa_row]\n",
    "fifa_details['Overall']\n",
    "player_df = pd.DataFrame(np.array([fifa_details['ID'],80,fifa_details['Overall'],fifa_details['Age'],fifa_details['Potential'],3,'CHE']).reshape(1,-1),columns = X_test_model_3.columns).apply(pd.to_numeric,errors = 'ignore')\n",
    "player_transformed = OH_encoder.transform(player_df[['element_type','short_name']])\n",
    "club_pos_player = pd.DataFrame(player_transformed)\n",
    "player_encoded = pd.concat([player_df,club_pos_player],axis = 1,ignore_index=False)\n",
    "player_encoded = player_encoded.drop(['index','element_type','short_name'],axis = 1)\n",
    "player_pred = model_3.predict(player_encoded)\n",
    "player_pred"
   ]
  },
  {
   "cell_type": "markdown",
   "metadata": {},
   "source": [
    "## Random Forest "
   ]
  },
  {
   "cell_type": "code",
   "execution_count": 78,
   "metadata": {},
   "outputs": [
    {
     "data": {
      "text/plain": [
       "array([4.681])"
      ]
     },
     "execution_count": 78,
     "metadata": {},
     "output_type": "execute_result"
    }
   ],
   "source": [
    "fifa_row = ['L. Suárez' in name for name in fifa21_abbr['Name']].index(True)\n",
    "fifa_details = fifa21_abbr.loc[fifa_row]\n",
    "fifa_details['Overall']\n",
    "player_df = pd.DataFrame(np.array([fifa_details['ID'],80,fifa_details['Overall'],fifa_details['Age'],fifa_details['Potential'],3,'CHE']).reshape(1,-1),columns = X_test_model_3.columns).apply(pd.to_numeric,errors = 'ignore')\n",
    "player_transformed = OH_encoder.transform(player_df[['element_type','short_name']])\n",
    "club_pos_player = pd.DataFrame(player_transformed)\n",
    "player_encoded = pd.concat([player_df,club_pos_player],axis = 1,ignore_index=False)\n",
    "player_encoded = player_encoded.drop(['index','element_type','short_name'],axis = 1)\n",
    "player_pred = model_3.predict(player_encoded)\n",
    "player_pred"
   ]
  },
  {
   "cell_type": "markdown",
   "metadata": {},
   "source": [
    "## Linear Regression"
   ]
  },
  {
   "cell_type": "code",
   "execution_count": 80,
   "metadata": {},
   "outputs": [
    {
     "data": {
      "text/plain": [
       "array([4.1174469])"
      ]
     },
     "execution_count": 80,
     "metadata": {},
     "output_type": "execute_result"
    }
   ],
   "source": [
    "fifa_row = ['L. Suárez' in name for name in fifa21_abbr['Name']].index(True)\n",
    "fifa_details = fifa21_abbr.loc[fifa_row]\n",
    "fifa_details['Overall']\n",
    "player_df = pd.DataFrame(np.array([fifa_details['ID'],80,fifa_details['Overall'],fifa_details['Age'],fifa_details['Potential'],3,'CHE']).reshape(1,-1),columns = X_test_model_3.columns).apply(pd.to_numeric,errors = 'ignore')\n",
    "player_transformed = OH_encoder.transform(player_df[['element_type','short_name']])\n",
    "club_pos_player = pd.DataFrame(player_transformed)\n",
    "player_encoded = pd.concat([player_df,club_pos_player],axis = 1,ignore_index=False)\n",
    "player_encoded = player_encoded.drop(['index','element_type','short_name'],axis = 1)\n",
    "player_pred = model_3.predict(player_encoded)\n",
    "player_pred"
   ]
  },
  {
   "cell_type": "markdown",
   "metadata": {},
   "source": [
    "## Elastic Net"
   ]
  },
  {
   "cell_type": "code",
   "execution_count": 82,
   "metadata": {},
   "outputs": [
    {
     "data": {
      "text/plain": [
       "array([3.89573424])"
      ]
     },
     "execution_count": 82,
     "metadata": {},
     "output_type": "execute_result"
    }
   ],
   "source": [
    "fifa_row = ['L. Suárez' in name for name in fifa21_abbr['Name']].index(True)\n",
    "fifa_details = fifa21_abbr.loc[fifa_row]\n",
    "fifa_details['Overall']\n",
    "player_df = pd.DataFrame(np.array([fifa_details['ID'],80,fifa_details['Overall'],fifa_details['Age'],fifa_details['Potential'],3,'CHE']).reshape(1,-1),columns = X_test_model_3.columns).apply(pd.to_numeric,errors = 'ignore')\n",
    "player_transformed = OH_encoder.transform(player_df[['element_type','short_name']])\n",
    "club_pos_player = pd.DataFrame(player_transformed)\n",
    "player_encoded = pd.concat([player_df,club_pos_player],axis = 1,ignore_index=False)\n",
    "player_encoded = player_encoded.drop(['index','element_type','short_name'],axis = 1)\n",
    "player_pred = model_3.predict(player_encoded)\n",
    "player_pred"
   ]
  },
  {
   "cell_type": "code",
   "execution_count": null,
   "metadata": {},
   "outputs": [],
   "source": []
  }
 ],
 "metadata": {
  "kernelspec": {
   "display_name": "Python 3",
   "language": "python",
   "name": "python3"
  },
  "language_info": {
   "codemirror_mode": {
    "name": "ipython",
    "version": 3
   },
   "file_extension": ".py",
   "mimetype": "text/x-python",
   "name": "python",
   "nbconvert_exporter": "python",
   "pygments_lexer": "ipython3",
   "version": "3.7.6"
  }
 },
 "nbformat": 4,
 "nbformat_minor": 4
}
